{
 "cells": [
  {
   "cell_type": "code",
   "execution_count": 27,
   "metadata": {},
   "outputs": [],
   "source": [
    "import pandas as pd\n",
    "import numpy as np\n",
    "\n",
    "from future.utils import iteritems\n",
    "from pyPRMS.prms_helpers import float_to_str"
   ]
  },
  {
   "cell_type": "code",
   "execution_count": 28,
   "metadata": {},
   "outputs": [
    {
     "name": "stdout",
     "output_type": "stream",
     "text": [
      "<class 'pandas.core.frame.DataFrame'>\n",
      "RangeIndex: 136 entries, 0 to 135\n",
      "Data columns (total 4 columns):\n",
      "datatype       136 non-null object\n",
      "ctl_param      136 non-null object\n",
      "default        136 non-null object\n",
      "description    136 non-null object\n",
      "dtypes: object(4)\n",
      "memory usage: 4.3+ KB\n",
      "None\n"
     ]
    }
   ],
   "source": [
    "col_names = ['datatype', 'ctl_param', 'default', 'description']\n",
    "col_types = [np.str for __ in range(0,4)]\n",
    "# col_types.extend([np.float for __ in range(0,10)])\n",
    "cols = dict(zip(col_names, col_types))\n",
    "\n",
    "# Manually generated control file parameters from setup.c\n",
    "workfile = '/Users/pnorton/Projects/National_Hydrology_Model/documents/PRMS6/prms_control_file_parameters_raw.txt'\n",
    "df = pd.read_csv(workfile, sep='\\t', dtype=cols, encoding='ascii')\n",
    "df = df.fillna('')\n",
    "print(df.info())\n",
    "\n",
    "# Map datatypes to numbers\n",
    "datatype_to_num = {'integer':'1', 'integer_array':'1', 'real':'2', 'string':'4', 'string_array':'4'}"
   ]
  },
  {
   "cell_type": "code",
   "execution_count": 29,
   "metadata": {},
   "outputs": [
    {
     "data": {
      "text/html": [
       "<div>\n",
       "<style scoped>\n",
       "    .dataframe tbody tr th:only-of-type {\n",
       "        vertical-align: middle;\n",
       "    }\n",
       "\n",
       "    .dataframe tbody tr th {\n",
       "        vertical-align: top;\n",
       "    }\n",
       "\n",
       "    .dataframe thead th {\n",
       "        text-align: right;\n",
       "    }\n",
       "</style>\n",
       "<table border=\"1\" class=\"dataframe\">\n",
       "  <thead>\n",
       "    <tr style=\"text-align: right;\">\n",
       "      <th></th>\n",
       "      <th>datatype</th>\n",
       "      <th>ctl_param</th>\n",
       "      <th>default</th>\n",
       "      <th>description</th>\n",
       "    </tr>\n",
       "  </thead>\n",
       "  <tbody>\n",
       "    <tr>\n",
       "      <th>131</th>\n",
       "      <td>string_array</td>\n",
       "      <td>nhruOutVar_names</td>\n",
       "      <td>none</td>\n",
       "      <td>List of variable names for which output is wri...</td>\n",
       "    </tr>\n",
       "    <tr>\n",
       "      <th>132</th>\n",
       "      <td>string_array</td>\n",
       "      <td>nsegmentOutVar_names</td>\n",
       "      <td>none</td>\n",
       "      <td></td>\n",
       "    </tr>\n",
       "    <tr>\n",
       "      <th>133</th>\n",
       "      <td>string_array</td>\n",
       "      <td>nsubOutVar_names</td>\n",
       "      <td>none</td>\n",
       "      <td>List of variable names for which output is wri...</td>\n",
       "    </tr>\n",
       "    <tr>\n",
       "      <th>134</th>\n",
       "      <td>string_array</td>\n",
       "      <td>statVar_element</td>\n",
       "      <td>none</td>\n",
       "      <td>List of identification numbers corresponding t...</td>\n",
       "    </tr>\n",
       "    <tr>\n",
       "      <th>135</th>\n",
       "      <td>string_array</td>\n",
       "      <td>statVar_names</td>\n",
       "      <td>none</td>\n",
       "      <td>List of variable names for which output is wri...</td>\n",
       "    </tr>\n",
       "  </tbody>\n",
       "</table>\n",
       "</div>"
      ],
      "text/plain": [
       "         datatype             ctl_param default  \\\n",
       "131  string_array      nhruOutVar_names    none   \n",
       "132  string_array  nsegmentOutVar_names    none   \n",
       "133  string_array      nsubOutVar_names    none   \n",
       "134  string_array       statVar_element    none   \n",
       "135  string_array         statVar_names    none   \n",
       "\n",
       "                                           description  \n",
       "131  List of variable names for which output is wri...  \n",
       "132                                                     \n",
       "133  List of variable names for which output is wri...  \n",
       "134  List of identification numbers corresponding t...  \n",
       "135  List of variable names for which output is wri...  "
      ]
     },
     "execution_count": 29,
     "metadata": {},
     "output_type": "execute_result"
    }
   ],
   "source": [
    "df.tail()"
   ]
  },
  {
   "cell_type": "markdown",
   "metadata": {},
   "source": [
    "### Generate a basic XML file for the control parameters"
   ]
  },
  {
   "cell_type": "code",
   "execution_count": 32,
   "metadata": {},
   "outputs": [],
   "source": [
    "import xml.dom.minidom as minidom\n",
    "import xml.etree.ElementTree as xmlET\n",
    "\n",
    "ctl_xml = xmlET.Element('control')\n",
    "\n",
    "for index, row in df.iterrows():\n",
    "    ctl_entry = xmlET.SubElement(ctl_xml, 'control_param')\n",
    "    ctl_entry.set('name', row['ctl_param'])\n",
    "    \n",
    "    if isinstance(row['default'], basestring):\n",
    "        xmlET.SubElement(ctl_entry, 'default').text = row['default']\n",
    "    else:\n",
    "        xmlET.SubElement(ctl_entry, 'default').text = float_to_str(row['default'])\n",
    "        \n",
    "    xmlET.SubElement(ctl_entry, 'type').text = datatype_to_num[row['datatype']]\n",
    "    xmlET.SubElement(ctl_entry, 'numvals').text = \"1\"\n",
    "    \n",
    "    if row['description'] == '':\n",
    "        xmlET.SubElement(ctl_entry, 'desc').text = 'none'\n",
    "    else:\n",
    "        xmlET.SubElement(ctl_entry, 'desc').text = row['description']\n",
    "    \n",
    "#     print(row['ctl_param'], row['default'])"
   ]
  },
  {
   "cell_type": "markdown",
   "metadata": {},
   "source": [
    "### Write XML file"
   ]
  },
  {
   "cell_type": "code",
   "execution_count": 33,
   "metadata": {},
   "outputs": [],
   "source": [
    "xmlstr = minidom.parseString(xmlET.tostring(ctl_xml)).toprettyxml(indent='    ')\n",
    "with open('/Users/pnorton/tmp/control.xml', 'w') as ff:\n",
    "    ff.write(xmlstr)\n",
    "    \n",
    "# print(xmlstr)"
   ]
  },
  {
   "cell_type": "code",
   "execution_count": 16,
   "metadata": {},
   "outputs": [
    {
     "ename": "NameError",
     "evalue": "name 'xmlstr' is not defined",
     "output_type": "error",
     "traceback": [
      "\u001b[0;31m---------------------------------------------------------------------------\u001b[0m",
      "\u001b[0;31mNameError\u001b[0m                                 Traceback (most recent call last)",
      "\u001b[0;32m<ipython-input-16-0a6920f14efa>\u001b[0m in \u001b[0;36m<module>\u001b[0;34m()\u001b[0m\n\u001b[0;32m----> 1\u001b[0;31m \u001b[0;32mprint\u001b[0m\u001b[0;34m(\u001b[0m\u001b[0mxmlstr\u001b[0m\u001b[0;34m)\u001b[0m\u001b[0;34m\u001b[0m\u001b[0m\n\u001b[0m",
      "\u001b[0;31mNameError\u001b[0m: name 'xmlstr' is not defined"
     ]
    }
   ],
   "source": [
    "print(xmlstr)"
   ]
  },
  {
   "cell_type": "code",
   "execution_count": null,
   "metadata": {
    "collapsed": true
   },
   "outputs": [],
   "source": []
  }
 ],
 "metadata": {
  "kernelspec": {
   "display_name": "Python 2",
   "language": "python",
   "name": "python2"
  },
  "language_info": {
   "codemirror_mode": {
    "name": "ipython",
    "version": 2
   },
   "file_extension": ".py",
   "mimetype": "text/x-python",
   "name": "python",
   "nbconvert_exporter": "python",
   "pygments_lexer": "ipython2",
   "version": "2.7.15"
  }
 },
 "nbformat": 4,
 "nbformat_minor": 2
}
