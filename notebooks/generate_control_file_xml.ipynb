{
 "cells": [
  {
   "cell_type": "code",
   "execution_count": 36,
   "metadata": {
    "collapsed": true
   },
   "outputs": [],
   "source": [
    "import pandas as pd\n",
    "import numpy as np\n",
    "\n",
    "from future.utils import iteritems"
   ]
  },
  {
   "cell_type": "code",
   "execution_count": 35,
   "metadata": {
    "collapsed": true
   },
   "outputs": [],
   "source": [
    "# Manually generated control file parameters from setup.c\n",
    "workfile = '/Users/pnorton/Projects/National_Hydrology_Model/documents/PRMS6/control_file_parameters.txt'\n",
    "df = pd.read_csv(workfile, sep=',')"
   ]
  },
  {
   "cell_type": "markdown",
   "metadata": {},
   "source": [
    "### Generate a basic XML file for the control parameters"
   ]
  },
  {
   "cell_type": "code",
   "execution_count": 30,
   "metadata": {},
   "outputs": [],
   "source": [
    "import xml.dom.minidom as minidom\n",
    "import xml.etree.ElementTree as xmlET\n",
    "\n",
    "ctl_xml = xmlET.Element('control')\n",
    "\n",
    "for index, row in df.iterrows():\n",
    "    ctl_entry = xmlET.SubElement(ctl_xml, 'control_param')\n",
    "    ctl_entry.set('name', row['ctl_param'])\n",
    "    \n",
    "    xmlET.SubElement(ctl_entry, 'default').text = row['default']\n",
    "    \n",
    "    xmlET.SubElement(ctl_entry, 'type').text = \"1\"\n",
    "    xmlET.SubElement(ctl_entry, 'numvals').text = \"1\"\n",
    "    xmlET.SubElement(ctl_entry, 'desc').text = \"empty\"\n",
    "    \n",
    "#     print(row['ctl_param'], row['default'])"
   ]
  },
  {
   "cell_type": "markdown",
   "metadata": {},
   "source": [
    "### Write XML file"
   ]
  },
  {
   "cell_type": "code",
   "execution_count": 34,
   "metadata": {},
   "outputs": [],
   "source": [
    "xmlstr = minidom.parseString(xmlET.tostring(ctl_xml)).toprettyxml(indent='    ')\n",
    "with open('/Users/pnorton/tmp/control.xml', 'w') as ff:\n",
    "    ff.write(xmlstr)\n",
    "    \n",
    "# print(xmlstr)"
   ]
  },
  {
   "cell_type": "code",
   "execution_count": null,
   "metadata": {
    "collapsed": true
   },
   "outputs": [],
   "source": []
  }
 ],
 "metadata": {
  "kernelspec": {
   "display_name": "Python [default]",
   "language": "python",
   "name": "python2"
  },
  "language_info": {
   "codemirror_mode": {
    "name": "ipython",
    "version": 2
   },
   "file_extension": ".py",
   "mimetype": "text/x-python",
   "name": "python",
   "nbconvert_exporter": "python",
   "pygments_lexer": "ipython2",
   "version": "2.7.12"
  }
 },
 "nbformat": 4,
 "nbformat_minor": 2
}
