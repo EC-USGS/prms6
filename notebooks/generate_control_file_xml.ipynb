{
 "cells": [
  {
   "cell_type": "code",
   "metadata": {},
   "source": [
    "import pandas as pd\n",
    "import numpy as np\n",
    "\n",
    "from future.utils import iteritems\n",
    "from pyPRMS.prms_helpers import float_to_str"
   ],
   "outputs": [],
   "execution_count": null
  },
  {
   "cell_type": "code",
   "metadata": {},
   "source": [
    "col_names = ['datatype', 'ctl_param', 'default', 'description']\n",
    "col_types = [np.str for __ in range(0,4)]\n",
    "# col_types.extend([np.float for __ in range(0,10)])\n",
    "cols = dict(zip(col_names, col_types))\n",
    "\n",
    "# Manually generated control file parameters from setup.c\n",
    "workfile = '<path>/PRMS6/prms_control_file_parameters_raw.txt'\n",
    "df = pd.read_csv(workfile, sep='\\t', dtype=cols, encoding='ascii')\n",
    "df = df.fillna('')\n",
    "print(df.info())\n",
    "\n",
    "# Map datatypes to numbers\n",
    "datatype_to_num = {'integer':'1', 'integer_array':'1', 'real':'2', 'string':'4', 'string_array':'4'}"
   ],
   "outputs": [],
   "execution_count": null
  },
  {
   "cell_type": "code",
   "metadata": {},
   "source": [
    "df.tail()"
   ],
   "outputs": [],
   "execution_count": null
  },
  {
   "cell_type": "markdown",
   "metadata": {},
   "source": [
    "### Generate a basic XML file for the control parameters"
   ]
  },
  {
   "cell_type": "code",
   "metadata": {},
   "source": [
    "import xml.dom.minidom as minidom\n",
    "import xml.etree.ElementTree as xmlET\n",
    "\n",
    "ctl_xml = xmlET.Element('control')\n",
    "\n",
    "for index, row in df.iterrows():\n",
    "    ctl_entry = xmlET.SubElement(ctl_xml, 'control_param')\n",
    "    ctl_entry.set('name', row['ctl_param'])\n",
    "    \n",
    "    if isinstance(row['default'], basestring):\n",
    "        xmlET.SubElement(ctl_entry, 'default').text = row['default']\n",
    "    else:\n",
    "        xmlET.SubElement(ctl_entry, 'default').text = float_to_str(row['default'])\n",
    "        \n",
    "    xmlET.SubElement(ctl_entry, 'type').text = datatype_to_num[row['datatype']]\n",
    "    xmlET.SubElement(ctl_entry, 'numvals').text = \"1\"\n",
    "    \n",
    "    if row['description'] == '':\n",
    "        xmlET.SubElement(ctl_entry, 'desc').text = 'none'\n",
    "    else:\n",
    "        xmlET.SubElement(ctl_entry, 'desc').text = row['description']\n",
    "    \n",
    "#     print(row['ctl_param'], row['default'])"
   ],
   "outputs": [],
   "execution_count": null
  },
  {
   "cell_type": "markdown",
   "metadata": {},
   "source": [
    "### Write XML file"
   ]
  },
  {
   "cell_type": "code",
   "metadata": {},
   "source": [
    "xmlstr = minidom.parseString(xmlET.tostring(ctl_xml)).toprettyxml(indent='    ')\n",
    "with open('tmp/control.xml', 'w') as ff:\n",
    "    ff.write(xmlstr)\n",
    "    \n",
    "# print(xmlstr)"
   ],
   "outputs": [],
   "execution_count": null
  },
  {
   "cell_type": "code",
   "metadata": {},
   "source": [
    "print(xmlstr)"
   ],
   "outputs": [],
   "execution_count": null
  },
  {
   "cell_type": "code",
   "metadata": {
    "collapsed": true
   },
   "source": [],
   "outputs": [],
   "execution_count": null
  }
 ],
 "metadata": {
  "kernelspec": {
   "display_name": "Python 2",
   "language": "python",
   "name": "python2"
  },
  "language_info": {
   "codemirror_mode": {
    "name": "ipython",
    "version": 2
   },
   "file_extension": ".py",
   "mimetype": "text/x-python",
   "name": "python",
   "nbconvert_exporter": "python",
   "pygments_lexer": "ipython2",
   "version": "2.7.15"
  }
 },
 "nbformat": 4,
 "nbformat_minor": 2
}
