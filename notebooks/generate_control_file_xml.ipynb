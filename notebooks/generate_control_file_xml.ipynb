{
 "cells": [
  {
   "cell_type": "code",
   "execution_count": 29,
   "metadata": {
    "collapsed": true
   },
   "outputs": [],
   "source": [
    "import pandas as pd\n",
    "import numpy as np\n",
    "\n",
    "from future.utils import iteritems\n",
    "from pyPRMS.prms_helpers import float_to_str"
   ]
  },
  {
   "cell_type": "code",
   "execution_count": 30,
   "metadata": {},
   "outputs": [
    {
     "name": "stdout",
     "output_type": "stream",
     "text": [
      "<class 'pandas.core.frame.DataFrame'>\n",
      "RangeIndex: 133 entries, 0 to 132\n",
      "Data columns (total 3 columns):\n",
      "datatype     133 non-null object\n",
      "ctl_param    133 non-null object\n",
      "default      132 non-null object\n",
      "dtypes: object(3)\n",
      "memory usage: 3.2+ KB\n",
      "None\n"
     ]
    }
   ],
   "source": [
    "# Manually generated control file parameters from setup.c\n",
    "workfile = '/Users/pnorton/Projects/National_Hydrology_Model/documents/PRMS6/control_file_parameters_from_code.txt'\n",
    "df = pd.read_csv(workfile, sep=',')\n",
    "print(df.info())\n",
    "\n",
    "# Map datatypes to numbers\n",
    "datatype_to_num = {'integer':'1', 'integer_array':'1', 'real':'2', 'string':'4', 'string_array':'4'}"
   ]
  },
  {
   "cell_type": "markdown",
   "metadata": {},
   "source": [
    "### Generate a basic XML file for the control parameters"
   ]
  },
  {
   "cell_type": "code",
   "execution_count": 31,
   "metadata": {},
   "outputs": [],
   "source": [
    "import xml.dom.minidom as minidom\n",
    "import xml.etree.ElementTree as xmlET\n",
    "\n",
    "ctl_xml = xmlET.Element('control')\n",
    "\n",
    "for index, row in df.iterrows():\n",
    "    ctl_entry = xmlET.SubElement(ctl_xml, 'control_param')\n",
    "    ctl_entry.set('name', row['ctl_param'])\n",
    "    \n",
    "    if isinstance(row['default'], basestring):\n",
    "        xmlET.SubElement(ctl_entry, 'default').text = row['default']\n",
    "    else:\n",
    "        xmlET.SubElement(ctl_entry, 'default').text = float_to_str(row['default'])\n",
    "        \n",
    "    xmlET.SubElement(ctl_entry, 'type').text = datatype_to_num[row['datatype']]\n",
    "    xmlET.SubElement(ctl_entry, 'numvals').text = \"1\"\n",
    "    xmlET.SubElement(ctl_entry, 'desc').text = \"empty\"\n",
    "    \n",
    "#     print(row['ctl_param'], row['default'])"
   ]
  },
  {
   "cell_type": "markdown",
   "metadata": {},
   "source": [
    "### Write XML file"
   ]
  },
  {
   "cell_type": "code",
   "execution_count": 32,
   "metadata": {},
   "outputs": [],
   "source": [
    "xmlstr = minidom.parseString(xmlET.tostring(ctl_xml)).toprettyxml(indent='    ')\n",
    "with open('/Users/pnorton/tmp/control.xml', 'w') as ff:\n",
    "    ff.write(xmlstr)\n",
    "    \n",
    "# print(xmlstr)"
   ]
  },
  {
   "cell_type": "code",
   "execution_count": null,
   "metadata": {
    "collapsed": true
   },
   "outputs": [],
   "source": []
  },
  {
   "cell_type": "code",
   "execution_count": null,
   "metadata": {
    "collapsed": true
   },
   "outputs": [],
   "source": []
  }
 ],
 "metadata": {
  "kernelspec": {
   "display_name": "Python [default]",
   "language": "python",
   "name": "python2"
  },
  "language_info": {
   "codemirror_mode": {
    "name": "ipython",
    "version": 2
   },
   "file_extension": ".py",
   "mimetype": "text/x-python",
   "name": "python",
   "nbconvert_exporter": "python",
   "pygments_lexer": "ipython2",
   "version": "2.7.12"
  }
 },
 "nbformat": 4,
 "nbformat_minor": 2
}
