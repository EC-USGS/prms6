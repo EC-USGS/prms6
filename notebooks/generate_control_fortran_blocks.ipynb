{
 "cells": [
  {
   "cell_type": "code",
   "execution_count": 7,
   "metadata": {
    "collapsed": true
   },
   "outputs": [],
   "source": [
    "import xml.dom.minidom as minidom\n",
    "import xml.etree.ElementTree as xmlET\n",
    "\n",
    "from future.utils import iteritems"
   ]
  },
  {
   "cell_type": "code",
   "execution_count": 77,
   "metadata": {
    "collapsed": true
   },
   "outputs": [],
   "source": [
    "# type(iArray) :: print_debug\n",
    "declare_block = \"\"\"type({}) :: {}\"\"\""
   ]
  },
  {
   "cell_type": "markdown",
   "metadata": {},
   "source": [
    "### Generate the blocks for the dimensions"
   ]
  },
  {
   "cell_type": "code",
   "execution_count": 78,
   "metadata": {},
   "outputs": [
    {
     "name": "stdout",
     "output_type": "stream",
     "text": [
      "dimensions\n"
     ]
    }
   ],
   "source": [
    "workfile = '/Users/pnorton/Projects/National_Hydrology_Model/src/fortran/prms6/src/xml/dimensions.xml'\n",
    "\n",
    "xml_tree = xmlET.parse(workfile)\n",
    "xml_root = xml_tree.getroot()\n",
    "\n",
    "print(xml_root.tag)"
   ]
  },
  {
   "cell_type": "code",
   "execution_count": 79,
   "metadata": {},
   "outputs": [
    {
     "name": "stdout",
     "output_type": "stream",
     "text": [
      "{'nhrucell': 0, 'one': 1, 'ndeplval': 0, 'nsnow': 0, 'nlakeelev': 0, 'nlapse': 0, 'ndays': 366, 'ngwcell': 0, 'npoigages': 0, 'ncascdgw': 0, 'ngw': 0, 'nsub': 0, 'nrain': 0, 'nssr': 0, 'nevap': 0, 'nmonths': 12, 'nhru': 0, 'nobs': 0, 'nexternal': 0, 'nlake': 0, 'nhumid': 0, 'ndepl': 0, 'nsegment': 0, 'nsol': 0, 'ntemp': 0, 'nconsumed': 0, 'ncascade': 0, 'nwateruse': 0, 'nratetbl': 0, 'nwind': 0}\n"
     ]
    }
   ],
   "source": [
    "dimensions = {}\n",
    "# Iterate over child nodes of root\n",
    "for elem in xml_root.findall('dimension'):\n",
    "    # print(elem.attrib.get('name'))\n",
    "    name = elem.attrib.get('name')\n",
    "    \n",
    "    # Print the elements of the node\n",
    "    # print(elem.find('desc').text)\n",
    "    # print(elem.find('size').text)\n",
    "    dim_size = int(elem.find('size').text)\n",
    "\n",
    "    dimensions[name] = dim_size\n",
    "    \n",
    "dim_names = dimensions.keys()\n",
    "dim_names.sort()\n",
    "\n",
    "print(dimensions)"
   ]
  },
  {
   "cell_type": "code",
   "execution_count": 80,
   "metadata": {},
   "outputs": [],
   "source": [
    "# Open files to write the typedefs and code blocks to\n",
    "basedir = '/Users/pnorton/Projects/National_Hydrology_Model/src/fortran/prms6'\n",
    "typedef_hdl = open('{}/src/prmslib/classes/sm_control_typedef.inc'.format(basedir), 'w')\n",
    "code_hdl = open('{}/src/prmslib/classes/sm_control_case_block.inc'.format(basedir), 'w')\n",
    "\n",
    "tb = '  '\n",
    "\n",
    "# Write the start of the select-case statement\n",
    "code_hdl.write('select case(buf)\\n')\n",
    "\n",
    "code_footer = \"\"\"\n",
    "  case default\n",
    "    ! Skip to the next ####\n",
    "end select\"\"\""
   ]
  },
  {
   "cell_type": "markdown",
   "metadata": {},
   "source": [
    "### Generate the type definition code for dimensions"
   ]
  },
  {
   "cell_type": "code",
   "execution_count": 81,
   "metadata": {},
   "outputs": [],
   "source": [
    "typedef_hdl.write('! Allowed dimensions\\n')\n",
    "\n",
    "for dim in dim_names:\n",
    "    typedef_hdl.write('{}\\n'.format(declare_block.format('iScalar', dim)))\n",
    "#     print(declare_block.format('iScalar', dim))\n",
    "    \n",
    "typedef_hdl.write('\\n')"
   ]
  },
  {
   "cell_type": "code",
   "execution_count": 82,
   "metadata": {
    "collapsed": true
   },
   "outputs": [],
   "source": [
    "# typedef_hdl.close()"
   ]
  },
  {
   "cell_type": "markdown",
   "metadata": {},
   "source": [
    "### Code blocks for the select-case statement in the sm_control.f90"
   ]
  },
  {
   "cell_type": "code",
   "execution_count": 83,
   "metadata": {
    "collapsed": true
   },
   "outputs": [],
   "source": [
    "sc_code_block_array = \"\"\"case('{0}')\n",
    "    this%{0}%name = last\n",
    "    call this%{0}%read(iUnit)\n",
    "    line = line + this%{0}%size() + ENTRY_OFFSET\"\"\"\n",
    "\n",
    "sc_code_block_scalar = \"\"\"case('{0}')\n",
    "    this%{0}%name = last\n",
    "    call this%{0}%read(iUnit)\n",
    "    line = line + 1 + ENTRY_OFFSET\"\"\""
   ]
  },
  {
   "cell_type": "markdown",
   "metadata": {},
   "source": [
    "### Generate the select case code for dimensions"
   ]
  },
  {
   "cell_type": "code",
   "execution_count": 84,
   "metadata": {},
   "outputs": [],
   "source": [
    "code_hdl.write('  ! Dimensions\\n')\n",
    "\n",
    "for dim in dim_names:\n",
    "    code_hdl.write('{}{}\\n'.format(tb, sc_code_block_scalar.format(dim)))\n",
    "#     print(sc_code_block_scalar.format(dim))\n",
    "\n",
    "code_hdl.write('\\n')"
   ]
  },
  {
   "cell_type": "markdown",
   "metadata": {},
   "source": [
    "### Generate blocks for control parameters"
   ]
  },
  {
   "cell_type": "code",
   "execution_count": 85,
   "metadata": {},
   "outputs": [],
   "source": [
    "workfile = '/Users/pnorton/Projects/National_Hydrology_Model/src/fortran/prms6/src/xml/control.xml'\n",
    "\n",
    "xml_tree = xmlET.parse(workfile)\n",
    "xml_root = xml_tree.getroot()\n",
    "\n",
    "# print(xml_root.tag)\n",
    "\n",
    "control = {}\n",
    "# Iterate over child nodes of root\n",
    "for elem in xml_root.findall('control_param'):\n",
    "    # print(elem.attrib.get('name'))\n",
    "    name = elem.attrib.get('name')\n",
    "    \n",
    "    # Print the elements of the node\n",
    "    # print(elem.find('desc').text)\n",
    "    # print(elem.find('size').text)\n",
    "    ctl_type = int(elem.find('type').text)\n",
    "\n",
    "    control[name] = ctl_type\n",
    "    \n",
    "ctl_names = control.keys()\n",
    "ctl_names.sort()\n",
    "\n",
    "# print(ctl_names)"
   ]
  },
  {
   "cell_type": "code",
   "execution_count": null,
   "metadata": {},
   "outputs": [],
   "source": []
  },
  {
   "cell_type": "markdown",
   "metadata": {},
   "source": [
    "### Generate the type definition code for control parameters"
   ]
  },
  {
   "cell_type": "code",
   "execution_count": 86,
   "metadata": {},
   "outputs": [],
   "source": [
    "# Control file variables that should be arrays of values\n",
    "array_ctl_vars = ['data_file', 'end_time', 'param_file', 'start_time', 'statVar_element', \n",
    "                  'statVar_names', 'aniOutVar_names', 'basinOutVar_names', 'mapOutVar_names',\n",
    "                  'nhruOutVar_names', 'nsubOutVar_names', 'dispVar_element', 'dispVar_names',\n",
    "                  'dispVar_plot']\n",
    "\n",
    "datatype_map_arrays = {1: 'iArray', 2: 'rArray', 3: 'rArray', 4:'sArray'}\n",
    "\n",
    "# NOTE: Type 4 is remains an array instead of a scalar for now\n",
    "datatype_map_scalars = {1: 'iScalar', 2: 'rScalar', 3: 'rScalar', 4: 'sArray'}\n",
    "\n",
    "typedef_hdl.write('! Control variables\\n')\n",
    "\n",
    "for ctl in ctl_names:\n",
    "    if ctl in array_ctl_vars:\n",
    "        typedef_hdl.write('{}\\n'.format(code_block.format(datatype_map_arrays[control[ctl]], ctl)))\n",
    "    else:\n",
    "        typedef_hdl.write('{}\\n'.format(code_block.format(datatype_map_scalars[control[ctl]], ctl)))\n",
    "        \n",
    "typedef_hdl.write('\\n')\n",
    "typedef_hdl.close()"
   ]
  },
  {
   "cell_type": "markdown",
   "metadata": {},
   "source": [
    "### Generate select case code for control parameters"
   ]
  },
  {
   "cell_type": "code",
   "execution_count": 87,
   "metadata": {},
   "outputs": [],
   "source": [
    "code_hdl.write('  ! Control variables\\n')\n",
    "\n",
    "for ctl in ctl_names:\n",
    "    if ctl in array_ctl_vars:\n",
    "        code_hdl.write('{}{}\\n'.format(tb, sc_code_block_array.format(ctl)))\n",
    "    else:\n",
    "        code_hdl.write('{}{}\\n'.format(tb, sc_code_block_scalar.format(ctl)))\n",
    "        \n",
    "code_hdl.write(code_footer)\n",
    "code_hdl.write('\\n')\n",
    "code_hdl.close()"
   ]
  },
  {
   "cell_type": "code",
   "execution_count": null,
   "metadata": {
    "collapsed": true
   },
   "outputs": [],
   "source": []
  },
  {
   "cell_type": "code",
   "execution_count": null,
   "metadata": {
    "collapsed": true
   },
   "outputs": [],
   "source": []
  },
  {
   "cell_type": "code",
   "execution_count": null,
   "metadata": {
    "collapsed": true
   },
   "outputs": [],
   "source": []
  }
 ],
 "metadata": {
  "kernelspec": {
   "display_name": "Python [default]",
   "language": "python",
   "name": "python2"
  },
  "language_info": {
   "codemirror_mode": {
    "name": "ipython",
    "version": 2
   },
   "file_extension": ".py",
   "mimetype": "text/x-python",
   "name": "python",
   "nbconvert_exporter": "python",
   "pygments_lexer": "ipython2",
   "version": "2.7.12"
  }
 },
 "nbformat": 4,
 "nbformat_minor": 2
}
