{
 "cells": [
  {
   "cell_type": "code",
   "metadata": {
    "collapsed": true
   },
   "source": [
    "import xml.dom.minidom as minidom\n",
    "import xml.etree.ElementTree as xmlET\n",
    "from future.utils import iteritems\n",
    "\n",
    "from pyPRMS.prms_helpers import read_xml"
   ],
   "outputs": [],
   "execution_count": null
  },
  {
   "cell_type": "code",
   "metadata": {
    "collapsed": true
   },
   "source": [
    "parent_modules = {'potet': ['potet_hamon', 'potet_hs', 'potet_jh', 'potet_pan', 'potet_pm', 'potet_pm_sta', 'potet_pt', 'potet_hru'],\n",
    "                  'solar_radiation': ['ccsolrad', 'ddsolrad', 'solar_radiation_hru'], #??soltab??\n",
    "                  'streamflow': ['muskingum', 'muskingum_lake', 'strmflow_in_out'], \n",
    "                  'temperature': ['temp_1sta', 'temp_laps', 'temp_dist2', 'temperature_hru'],\n",
    "                  'precipitation': ['precip_1sta', 'precip_laps', 'precip_dist2', 'precipitation_hru'],\n",
    "                  'transpiration': ['transp_frost', 'transp_tindex']}"
   ],
   "outputs": [],
   "execution_count": null
  },
  {
   "cell_type": "code",
   "metadata": {},
   "source": [
    "# Read in the parameters.xml file\n",
    "global_params_file = '<path>/parameters.xml'\n",
    "params_root = read_xml(global_params_file)\n",
    "\n",
    "module_dict = {}\n",
    "dims_by_param = {}\n",
    "\n",
    "# Populate parameterSet with all available parameter names\n",
    "for param in params_root.findall('parameter'):\n",
    "    xml_param_name = param.attrib.get('name')\n",
    "\n",
    "    # Build dictionary of dimensions (in correct order) for each parameter\n",
    "    for cdim in param.findall('./dimensions/dimension'):\n",
    "        dim_name = cdim.attrib.get('name')\n",
    "        dim_pos = int(cdim.find('position').text)\n",
    "        dims_by_param.setdefault(xml_param_name, []).insert(dim_pos, dim_name)    \n",
    "    \n",
    "    mods_list = []\n",
    "    for cmod in param.findall('./modules/module'):\n",
    "        mods_list.append(cmod.text)\n",
    "        \n",
    "    in_parent = False\n",
    "    \n",
    "    # If a parameter is required by all the child modules of a parent then add\n",
    "    # only the parent module to the dictionary.\n",
    "    for pp, tt in iteritems(parent_modules):\n",
    "        if len(set(tt).difference(set(mods_list))) == 0:\n",
    "            module_dict.setdefault(pp, []).append(xml_param_name)\n",
    "            in_parent = True\n",
    "            \n",
    "            # There could be other child modules remaining so add them too\n",
    "            for mm in set(tt).symmetric_difference(set(mods_list)):\n",
    "                module_dict.setdefault(mm, []).append(xml_param_name)\n",
    "                \n",
    "            break\n",
    "    \n",
    "    if not in_parent:\n",
    "        for mm in mods_list:\n",
    "            module_dict.setdefault(mm, []).append(xml_param_name)"
   ],
   "outputs": [],
   "execution_count": null
  },
  {
   "cell_type": "code",
   "metadata": {},
   "source": [
    "# List the parameters for each module\n",
    "for xx, yy in iteritems(module_dict):\n",
    "    print(xx)\n",
    "    for zz in yy:\n",
    "        print('\\t{}'.format(zz))"
   ],
   "outputs": [],
   "execution_count": null
  },
  {
   "cell_type": "code",
   "metadata": {},
   "source": [
    "# List dimensions for each parameter\n",
    "for xx, yy in iteritems(dims_by_param):\n",
    "    print(xx, yy)"
   ],
   "outputs": [],
   "execution_count": null
  },
  {
   "cell_type": "markdown",
   "metadata": {},
   "source": [
    "### Write parameters into csv format"
   ]
  },
  {
   "cell_type": "code",
   "metadata": {
    "collapsed": true
   },
   "source": [
    "import pyPRMS.NhmParamDb_v2 as nhm\n",
    "import pandas as pd"
   ],
   "outputs": [],
   "execution_count": null
  },
  {
   "cell_type": "code",
   "metadata": {
    "collapsed": true
   },
   "source": [
    "workdir = '<path>/paramdb_v2'\n",
    "\n",
    "pdb = nhm.NhmParamDb_v2(workdir)"
   ],
   "outputs": [],
   "execution_count": null
  },
  {
   "cell_type": "code",
   "metadata": {
    "collapsed": true
   },
   "source": [
    "df = pdb.parameters.get('dday_slope').as_dataframe"
   ],
   "outputs": [],
   "execution_count": null
  },
  {
   "cell_type": "code",
   "metadata": {},
   "source": [
    "pdb.parameters.get('dday_slope').dimensions.tostructure()"
   ],
   "outputs": [],
   "execution_count": null
  },
  {
   "cell_type": "code",
   "metadata": {},
   "source": [
    "# Create a position-ordered list of dimension names for the parameter\n",
    "dim_list = []\n",
    "\n",
    "for dm, dd in iteritems(pdb.parameters.get('dday_slope').dimensions.tostructure()):\n",
    "    dim_list.insert(dd['position'], dm)\n",
    "\n",
    "print(','.join(dim_list))"
   ],
   "outputs": [],
   "execution_count": null
  },
  {
   "cell_type": "code",
   "metadata": {
    "collapsed": true
   },
   "source": [
    "# Write a CSV file of parameter data with the dimension names as a first-line comment\n",
    "\n",
    "fhdl = open('dday_slope.csv', 'w')\n",
    "\n",
    "# Write the dimension info as first line\n",
    "fhdl.write('# {}\\n'.format(','.join(dim_list)))\n",
    "\n",
    "# Write the data to a csv file\n",
    "df.index += 1\n",
    "df.to_csv(fhdl, header=False, index=True)\n",
    "\n",
    "fhdl.close()"
   ],
   "outputs": [],
   "execution_count": null
  },
  {
   "cell_type": "code",
   "metadata": {
    "collapsed": true
   },
   "source": [],
   "outputs": [],
   "execution_count": null
  }
 ],
 "metadata": {
  "kernelspec": {
   "display_name": "Python [conda env:bandit]",
   "language": "python",
   "name": "conda-env-bandit-py"
  },
  "language_info": {
   "codemirror_mode": {
    "name": "ipython",
    "version": 2
   },
   "file_extension": ".py",
   "mimetype": "text/x-python",
   "name": "python",
   "nbconvert_exporter": "python",
   "pygments_lexer": "ipython2",
   "version": "2.7.13"
  }
 },
 "nbformat": 4,
 "nbformat_minor": 2
}
