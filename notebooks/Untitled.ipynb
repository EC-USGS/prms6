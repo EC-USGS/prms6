{
 "cells": [
  {
   "cell_type": "code",
   "execution_count": 2,
   "metadata": {},
   "outputs": [
    {
     "name": "stdout",
     "output_type": "stream",
     "text": [
      "2.70359082068e-05\n"
     ]
    }
   ],
   "source": [
    "gwflow_coef = 5.85800000E-02\n",
    "gwstor = 4.6152113702263575E-004\n",
    "\n",
    "gwflow = gwflow_coef * gwstor\n",
    "print(gwflow)"
   ]
  },
  {
   "cell_type": "code",
   "execution_count": 3,
   "metadata": {},
   "outputs": [
    {
     "name": "stdout",
     "output_type": "stream",
     "text": [
      "18462.8858371\n"
     ]
    }
   ],
   "source": [
    "# this%basin_sz_stor_frac + this%soil_moist_tot(chru) / this%soil_zone_max(chru) * harea\n",
    "\n",
    "basin_sz_stor_frac = 18462.885837070404\n",
    "soil_moist_tot = 1.12533890E-35\n",
    "soil_zone_max = 1002.02014\n",
    "harea = 14.2417049\n",
    "\n",
    "calc = basin_sz_stor_frac + soil_moist_tot / soil_zone_max * harea\n",
    "print(calc)"
   ]
  },
  {
   "cell_type": "code",
   "execution_count": 5,
   "metadata": {},
   "outputs": [
    {
     "name": "stdout",
     "output_type": "stream",
     "text": [
      "1.12307014109e-38\n",
      "1.59944335313e-37\n"
     ]
    }
   ],
   "source": [
    "print(soil_moist_tot / soil_zone_max)\n",
    "print(soil_moist_tot / soil_zone_max * harea)"
   ]
  },
  {
   "cell_type": "code",
   "execution_count": null,
   "metadata": {},
   "outputs": [],
   "source": []
  }
 ],
 "metadata": {
  "kernelspec": {
   "display_name": "Python [default]",
   "language": "python",
   "name": "python2"
  },
  "language_info": {
   "codemirror_mode": {
    "name": "ipython",
    "version": 2
   },
   "file_extension": ".py",
   "mimetype": "text/x-python",
   "name": "python",
   "nbconvert_exporter": "python",
   "pygments_lexer": "ipython2",
   "version": "2.7.12"
  }
 },
 "nbformat": 4,
 "nbformat_minor": 2
}
