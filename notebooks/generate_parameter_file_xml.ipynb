{
 "cells": [
  {
   "cell_type": "code",
   "metadata": {},
   "source": [
    "import xml.dom.minidom as minidom\n",
    "import xml.etree.ElementTree as xmlET\n",
    "\n",
    "import pandas as pd\n",
    "import numpy as np\n",
    "\n",
    "from future.utils import iteritems\n",
    "from pyPRMS.prms_helpers import float_to_str"
   ],
   "outputs": [],
   "execution_count": null
  },
  {
   "cell_type": "code",
   "metadata": {},
   "source": [
    "# Manually generated control file parameters from setup.c\n",
    "# workfile = '/Users/pnorton/Projects/National_Hydrology_Model/documents/PRMS6/prms_params_raw.txt'\n",
    "df = pd.read_csv(workfile, sep='\\t')\n",
    "\n",
    "df.head()"
   ],
   "outputs": [],
   "execution_count": null
  },
  {
   "cell_type": "markdown",
   "metadata": {},
   "source": [
    "### Generate a XML file for parameters"
   ]
  },
  {
   "cell_type": "code",
   "metadata": {},
   "source": [
    "#     <parameter name=\"ssstor_init_frac\">\n",
    "#         <type>F</type>\n",
    "#         <units>decimal fraction</units>\n",
    "#         <desc>Initial fraction of available water in the gravity plus preferential-flow reservoirs</desc>\n",
    "#         <help>Initial fraction of available water in the gravity plus preferential-flow reservoirs (fraction of sat_threshold) for each HRU</help>\n",
    "#         <minimum>0.0</minimum>\n",
    "#         <maximum>1.0</maximum>\n",
    "#         <default>0.0</default>\n",
    "#         <modules>\n",
    "#             <module>soilzone</module>\n",
    "#         </modules>\n",
    "#     </parameter>\n",
    "\n",
    "NHM_DATATYPES = {'I': 'integer', 'F': 'real', 'D': 'double', 'S': 'string'}\n",
    "inv_map = {vv: kk for kk, vv in iteritems(NHM_DATATYPES)}\n",
    "\n",
    "params_xml = xmlET.Element('parameters')\n",
    "\n",
    "for index, row in df.iterrows():\n",
    "#     print(row)\n",
    "    param_sub = xmlET.SubElement(params_xml, 'parameter')\n",
    "    param_sub.set('name', row['parameter'])\n",
    "\n",
    "    xmlET.SubElement(param_sub, 'type').text = inv_map[row['datatype']]\n",
    "\n",
    "    xmlET.SubElement(param_sub, 'units').text = row['units']\n",
    "    xmlET.SubElement(param_sub, 'desc').text = row['description']\n",
    "    xmlET.SubElement(param_sub, 'help').text = row['help']\n",
    "    \n",
    "    if isinstance(row['min_value'], basestring):\n",
    "        xmlET.SubElement(param_sub, 'minimum').text = row['min_value']\n",
    "    else:\n",
    "        if row['datatype'] in ['real', 'double']:\n",
    "            xmlET.SubElement(param_sub, 'minimum').text = float_to_str(row['min_value'])\n",
    "        elif row['datatype'] == 'integer':\n",
    "            xmlET.SubElement(param_sub, 'minimum').text = str(int(row['min_value']))  \n",
    "        \n",
    "    if isinstance(row['max_value'], basestring):\n",
    "        xmlET.SubElement(param_sub, 'maximum').text = row['max_value']\n",
    "    else:\n",
    "        if row['datatype'] in ['real', 'double']:\n",
    "            xmlET.SubElement(param_sub, 'maximum').text = float_to_str(row['max_value'])\n",
    "        elif row['datatype'] == 'integer':\n",
    "            xmlET.SubElement(param_sub, 'maximum').text = str(int(row['max_value']))\n",
    "            \n",
    "    if isinstance(row['default_value'], basestring):\n",
    "        xmlET.SubElement(param_sub, 'default').text = row['default_value']\n",
    "    else:\n",
    "        if row['datatype'] in ['real', 'double']:\n",
    "            xmlET.SubElement(param_sub, 'default').text = float_to_str(row['default_value'])\n",
    "        elif row['datatype'] == 'integer':\n",
    "            xmlET.SubElement(param_sub, 'default').text = str(int(row['default_value']))\n",
    "            \n",
    "    modules_sub = xmlET.SubElement(param_sub, 'modules')\n",
    "\n",
    "    for mm in (row['modules']).split(','):\n",
    "        xmlET.SubElement(modules_sub, 'module').text = mm\n",
    "        \n",
    "    dimensions_sub = xmlET.SubElement(param_sub, 'dimensions')\n",
    "    \n",
    "    for ii, dd in enumerate((row['dimensions']).split(',')):\n",
    "        curr_dim = xmlET.SubElement(dimensions_sub, 'dimension')\n",
    "        curr_dim.set('name', dd)\n",
    "        xmlET.SubElement(curr_dim, 'position').text = str(ii+1)\n",
    " "
   ],
   "outputs": [],
   "execution_count": null
  },
  {
   "cell_type": "code",
   "metadata": {},
   "source": [
    "xmlstr = minidom.parseString(xmlET.tostring(params_xml)).toprettyxml(indent='    ')\n",
    "\n",
    "with open('<path>/tmp/parameters.xml', 'w') as ff:\n",
    "    ff.write(xmlstr)"
   ],
   "outputs": [],
   "execution_count": null
  },
  {
   "cell_type": "code",
   "metadata": {
    "collapsed": true
   },
   "source": [],
   "outputs": [],
   "execution_count": null
  }
 ],
 "metadata": {
  "kernelspec": {
   "display_name": "Python [conda env:idp_bandit]",
   "language": "python",
   "name": "conda-env-idp_bandit-py"
  },
  "language_info": {
   "codemirror_mode": {
    "name": "ipython",
    "version": 2
   },
   "file_extension": ".py",
   "mimetype": "text/x-python",
   "name": "python",
   "nbconvert_exporter": "python",
   "pygments_lexer": "ipython2",
   "version": "2.7.14"
  }
 },
 "nbformat": 4,
 "nbformat_minor": 2
}
