{
 "cells": [
  {
   "cell_type": "code",
   "metadata": {},
   "source": [
    "import xml.dom.minidom as minidom\n",
    "import xml.etree.ElementTree as xmlET\n",
    "\n",
    "import pandas as pd\n",
    "import numpy as np\n",
    "\n",
    "from future.utils import iteritems\n",
    "from pyPRMS.prms_helpers import float_to_str"
   ],
   "outputs": [],
   "execution_count": null
  },
  {
   "cell_type": "code",
   "metadata": {},
   "source": [
    "# Manually generated control file parameters from setup.c\n",
    "workfile = '<path>/PRMS6/prms_vars_raw.txt'\n",
    "df = pd.read_csv(workfile, sep='\\t')\n",
    "\n",
    "df.head()"
   ],
   "outputs": [],
   "execution_count": null
  },
  {
   "cell_type": "markdown",
   "metadata": {},
   "source": [
    "### Generate a XML file for parameters"
   ]
  },
  {
   "cell_type": "code",
   "metadata": {},
   "source": [
    "# <variable name=\"dprst_area_clos_max\">\n",
    "#     <type>F</type>\n",
    "#     <units>acres</units>\n",
    "#     <desc>Aggregate sum of closed ...</desc>\n",
    "#     <modules>\n",
    "#         <module>srunoff</module>\n",
    "#     </modules>\n",
    "#     <dimensions>\n",
    "#         <dimension>nhru</dimension>\n",
    "#     </dimensions>\n",
    "# </variable>\n",
    "\n",
    "NHM_DATATYPES = {'I': 'integer', 'F': 'real', 'D': 'double', 'S': 'string'}\n",
    "inv_map = {vv: kk for kk, vv in iteritems(NHM_DATATYPES)}\n",
    "\n",
    "params_xml = xmlET.Element('variables')\n",
    "\n",
    "for index, row in df.iterrows():\n",
    "#     print(row)\n",
    "    param_sub = xmlET.SubElement(params_xml, 'variable')\n",
    "    param_sub.set('name', row['variable'])\n",
    "\n",
    "    xmlET.SubElement(param_sub, 'type').text = inv_map[row['datatype']]\n",
    "\n",
    "    xmlET.SubElement(param_sub, 'units').text = row['units']\n",
    "    xmlET.SubElement(param_sub, 'desc').text = row['description']\n",
    "            \n",
    "    modules_sub = xmlET.SubElement(param_sub, 'modules')\n",
    "\n",
    "    for mm in (row['modules']).split(','):\n",
    "        xmlET.SubElement(modules_sub, 'module').text = mm\n",
    "        \n",
    "    dimensions_sub = xmlET.SubElement(param_sub, 'dimensions')\n",
    "    \n",
    "    for ii, dd in enumerate((row['dimensions']).split(',')):\n",
    "        curr_dim = xmlET.SubElement(dimensions_sub, 'dimension')\n",
    "        curr_dim.set('name', dd)\n",
    "        xmlET.SubElement(curr_dim, 'position').text = str(ii+1)\n",
    " "
   ],
   "outputs": [],
   "execution_count": null
  },
  {
   "cell_type": "code",
   "metadata": {},
   "source": [
    "xmlstr = minidom.parseString(xmlET.tostring(params_xml)).toprettyxml(indent='    ')\n",
    "\n",
    "with open('<path>/tmp/variables.xml', 'w') as ff:\n",
    "    ff.write(xmlstr)"
   ],
   "outputs": [],
   "execution_count": null
  },
  {
   "cell_type": "code",
   "metadata": {},
   "source": [
    "df"
   ],
   "outputs": [],
   "execution_count": null
  },
  {
   "cell_type": "code",
   "metadata": {},
   "source": [],
   "outputs": [],
   "execution_count": null
  }
 ],
 "metadata": {
  "kernelspec": {
   "display_name": "Python 2",
   "language": "python",
   "name": "python2"
  },
  "language_info": {
   "codemirror_mode": {
    "name": "ipython",
    "version": 2
   },
   "file_extension": ".py",
   "mimetype": "text/x-python",
   "name": "python",
   "nbconvert_exporter": "python",
   "pygments_lexer": "ipython2",
   "version": "2.7.15"
  }
 },
 "nbformat": 4,
 "nbformat_minor": 2
}
